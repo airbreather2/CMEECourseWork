{
 "cells": [
  {
   "cell_type": "markdown",
   "metadata": {},
   "source": [
    "### Some useful equations"
   ]
  },
  {
   "cell_type": "markdown",
   "metadata": {},
   "source": [
    "metabolism: Energy Consumed = ENergy Used (Maintenence + Growth + Movement)"
   ]
  },
  {
   "cell_type": "markdown",
   "metadata": {
    "vscode": {
     "languageId": "plaintext"
    }
   },
   "source": [
    "#### THe importance of Size"
   ]
  },
  {
   "cell_type": "markdown",
   "metadata": {},
   "source": [
    "Metabolic rate (\n",
    ") increases with body size (\n",
    ") according to the allometric scaling law (Kleiber, 1947):"
   ]
  },
  {
   "cell_type": "markdown",
   "metadata": {},
   "source": []
  }
 ],
 "metadata": {
  "language_info": {
   "name": "python"
  }
 },
 "nbformat": 4,
 "nbformat_minor": 2
}
